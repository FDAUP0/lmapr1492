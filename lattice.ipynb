{
 "cells": [
  {
   "cell_type": "markdown",
   "metadata": {},
   "source": [
    "Danc cette partie, nous allons caractériser la structure et la maille de notre cristal.\n",
    "\n",
    "Nous considérerons la maille primitive, contenant en moyenne 1 noeud et un motif, pour effectuer cet exercice. La répétition de cette maille permet de construire entièrement le cristal."
   ]
  },
  {
   "cell_type": "code",
   "execution_count": null,
   "metadata": {},
   "outputs": [],
   "source": [
    "from pymatgen.ext.matproj import MPRester\n",
    "\n",
    "with MPRester (\"z5aIUAkpFPTHndsr\") as m:\n",
    "    \n",
    "    #Création de la structure du cristal à partir du MP\n",
    "    structure = m.get_structure_by_material_id(\"mp-15783\")"
   ]
  },
  {
   "cell_type": "code",
   "execution_count": 26,
   "metadata": {},
   "outputs": [],
   "source": [
    "from pymatgen.symmetry.analyzer import SpacegroupAnalyzer\n",
    "\n",
    "#Création d'un objet SpaceGroupAnalyzer\n",
    "struct = SpacegroupAnalyzer(structure)\n",
    "new_s=SpacegroupAnalyzer(structure).get_primitive_standard_structure()"
   ]
  },
  {
   "attachments": {},
   "cell_type": "markdown",
   "metadata": {},
   "source": [
    "# 1) Réseau direct <h1>\n",
    "    \n",
    "Pour pouvoir décrire une maille, nous avons besoin de 6 paramètres de maille : a, b, c, $\\alpha$, $\\beta$ et $\\gamma$.\n",
    "\n",
    "Longueur de a = 7.763862276302451 Angström\n",
    "<br/>Longueur de b = 7.763862276302451 Angström\n",
    "<br/>Longueur de c = 7.763862276302451 Angström\n",
    "\n",
    "On peut observer que les 3 vecteurs ont la même longueur. Intéressons-nous ensuite aux angles entre ceux-ci :\n",
    "\n",
    "$\\alpha$ = 30.972988661078492°\n",
    "<br/>$\\beta$ = 30.972988661078492°\n",
    "<br/>$\\gamma$ = 30.972988661078492°\n",
    "\n",
    "A nouveau, on observe que les angles sont identiques.\n",
    "\n",
    "Les coordonnées dans la base cartésienne des vecteurs de base sont :\n",
    "\n",
    "**a** = [7.481983 -2.073038 0.000000]\n",
    "<br/>**b** = [7.481983 2.073038 0.000000]\n",
    "<br/>**c** = [6.907605 0.000000 3.544369]"
   ]
  },
  {
   "cell_type": "code",
   "execution_count": 25,
   "metadata": {},
   "outputs": [],
   "source": [
    "#Création du lattice du reseau direct\n",
    "RD = new_s.lattice\n",
    "\n",
    "#Vecteurs de base du réseau direct\n",
    "a = RD.a\n",
    "b = RD.b\n",
    "c = RD.c\n",
    "\n",
    "#Angles du réseau direct\n",
    "alpha = RD.alpha\n",
    "beta = RD.beta\n",
    "gamma = RD.gamma"
   ]
  },
  {
   "cell_type": "markdown",
   "metadata": {},
   "source": [
    "# 2) Réseau réciproque <h1>  \n",
    "Le réseau réciproque correspond à l'ensemble des vecteurs d'onde **K** tels que leur périodicité est identique à celle du réseau initial. Ces vecteurs **K** sont des ondes planes. Les paramètres de maille sont : \n",
    "\n",
    "Longueur de a* = 1.7727230859597556 Angström\n",
    "<br/>Longueur de b* = 1.7727230859597556 Angström\n",
    "<br/>Longueur de c* = 1.7727230859597556 Angström\n",
    "\n",
    "On peut observer que les 3 vecteurs ont la même longueur. Intéressons-nous ensuite aux angles entre ceux-ci :\n",
    "\n",
    "$\\alpha$* = 117.4914284634637°\n",
    "<br/>$\\beta$* = 117.4914284634637°\n",
    "<br/>$\\gamma$* = 117.4914284634637°\n",
    "\n",
    "A nouveau, on observe que les angles sont identiques.\n",
    "\n",
    "Les coordonnées dans la base cartésienne des vecteurs de base sont :\n",
    "\n",
    "**a*** = [0.419888 -1.515453 -0.818317]\n",
    "<br/>**b*** = [0.419888 1.515453 -0.818317]\n",
    "<br/>**c*** = [0.000000 0.000000 1.772723]"
   ]
  },
  {
   "cell_type": "code",
   "execution_count": 29,
   "metadata": {},
   "outputs": [],
   "source": [
    "#Création d'une maille du réseau réciproque\n",
    "reciprocal = RD.reciprocal_lattice\n",
    "\n",
    "#Vecteurs de base du réseau réciproque\n",
    "a_r = reciprocal.a\n",
    "b_r = reciprocal.b\n",
    "c_r = reciprocal.c\n",
    "\n",
    "#Angles du réseau réciproque\n",
    "alpha_r = reciprocal.alpha\n",
    "beta_r = reciprocal.beta\n",
    "gamma_r = reciprocal.gamma"
   ]
  },
  {
   "cell_type": "markdown",
   "metadata": {},
   "source": [
    "# 3) Système cristallin <h1>\n",
    "\n",
    "Les systèmes crsitallins sont une classification des groupes de symétrie. Cette classification s'effectue sur base des symétries morphologiques et des symétries des propriétés physiques et non en fonction du contenu des cristaux (atomes, molécules, ions...).\n",
    "\n",
    "Etant donné que $a=b=c$ et que $\\alpha=\\beta=\\gamma$, nous sommes en présence d'un système cristallin trigonal avec une maille rhomboédrique. L'image suivante illustre ce type de maille. \n",
    "\n",
    "<img src=\"https://upload.wikimedia.org/wikipedia/commons/thumb/0/03/Rhombohedral.svg/800px-Rhombohedral.svg.png\" width=\"200\">"
   ]
  },
  {
   "cell_type": "code",
   "execution_count": 30,
   "metadata": {},
   "outputs": [],
   "source": [
    "#Type de maille\n",
    "maille = struct.get_lattice_type()\n",
    "\n",
    "#Système cristallin\n",
    "cristal = struct.get_crystal_system()"
   ]
  },
  {
   "cell_type": "markdown",
   "metadata": {},
   "source": [
    "# 6) Groupe ponctuel <h1>\n",
    "\n",
    "Un groupe ponctuel $G$ rassemble toutes les opérations de symétrie ponctuelle d'un point de vue mathématique. Cet ensemble possède différentes propriétés :\n",
    "1. Loi de composition interne : \n",
    "    $\\forall X,Y \\in G : Z=XY \\in G$\n",
    "2. Loi de composition interne associative :\n",
    "    $\\forall X,Y,Z \\in G : (XY)Z=X(YZ)$\n",
    "3. Elément neutre (identité E) :\n",
    "    $\\forall X \\in G : XE=EX=X$\n",
    "4. Elément inverse : \n",
    "    $\\forall X \\in G$ $\\exists$ $X^{-1}$ tel que $XX^{-1}=X^{-1}X=E$\n",
    "\n",
    "En 3D, il existe 32 groupes ponctuels. \n",
    "    \n",
    "La notation du groupe ponctuel de notre cristal est $\\bar{3}m$."
   ]
  },
  {
   "cell_type": "code",
   "execution_count": 31,
   "metadata": {},
   "outputs": [],
   "source": [
    "#Groupe ponctuel\n",
    "GP = struct.get_point_group_symbol()"
   ]
  },
  {
   "cell_type": "markdown",
   "metadata": {},
   "source": [
    "# 5) Références <h1>\n",
    "\n",
    "**Image :**\n",
    "\n",
    "[Système cristallin trigonal](https://fr.wikipedia.org/wiki/Syst%C3%A8me_cristallin_trigonal)\n",
    "\n",
    "**Théorie :**\n",
    "\n",
    "LMPAR1492 : Physique des matériaux (Gian-Marco Rignanese)\n",
    "\n",
    "**Mise en page :**\n",
    "\n",
    "[Mastering Markdown](https://guides.github.com/features/mastering-markdown/)\n"
   ]
  },
  {
   "cell_type": "code",
   "execution_count": null,
   "metadata": {},
   "outputs": [],
   "source": []
  }
 ],
 "metadata": {
  "kernelspec": {
   "display_name": "Python 3",
   "language": "python",
   "name": "python3"
  },
  "language_info": {
   "codemirror_mode": {
    "name": "ipython",
    "version": 3
   },
   "file_extension": ".py",
   "mimetype": "text/x-python",
   "name": "python",
   "nbconvert_exporter": "python",
   "pygments_lexer": "ipython3",
   "version": "3.6.8"
  }
 },
 "nbformat": 4,
 "nbformat_minor": 2
}
