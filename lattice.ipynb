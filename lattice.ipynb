{
 "cells": [
  {
   "cell_type": "markdown",
   "id": "863a9cc0",
   "metadata": {},
   "source": [
    "Tâche 5 : lattice \n",
    "- télécharger le ﬁchier CIF du matériau \n",
    "- déterminer :\n",
    "    1) Vecteurs de base des ses réseaux direct\n",
    "    2) Vecteurs de base de ses réseaux réciproque\n",
    "    3) Type de maille\n",
    "    4) Système cristallin\n",
    "    5) Groupe ponctuel"
   ]
  },
  {
   "cell_type": "code",
   "execution_count": null,
   "id": "59d134f7",
   "metadata": {},
   "outputs": [],
   "source": [
    "from pymatgen.ext.matproj import MPRester\n",
    "from pymatgen.io.cif import CifWriter\n",
    "from pymatgen.symmetry.analyzer import SpacegroupAnalyzer"
   ]
  },
  {
   "cell_type": "code",
   "execution_count": null,
   "id": "a5bf8226",
   "metadata": {},
   "outputs": [],
   "source": [
    "my_user_api_key = \"RoIT1CX7DvB59O2S\" # materials project legacy\n",
    "\n",
    "m =  MPRester(my_user_api_key)\n",
    "# Structure for material id\n",
    "structure = m.get_structure_by_material_id(\"mp-3432\")\n",
    "w = CifWriter(structure)\n",
    "w.write_file('mp-3432.cif')\n",
    "\n",
    "struct = SpacegroupAnalyzer(structure)\n",
    "pstruct = SpacegroupAnalyzer(structure).get_primitive_standard_structure()"
   ]
  },
  {
   "attachments": {},
   "cell_type": "markdown",
   "id": "70f67140",
   "metadata": {},
   "source": [
    "1) Réseau direct\n",
    "\n",
    "On remarque que les vecteurs de base  et les angles sont identiques entre eux. Cette configuration caractérise un système cristallin primitif rhombohédrique"
   ]
  },
  {
   "cell_type": "code",
   "execution_count": null,
   "id": "44a3bdb7",
   "metadata": {},
   "outputs": [
    {
     "name": "stdout",
     "output_type": "stream",
     "text": [
      "Vecteurs de base du réseau direct:\n",
      "Longeur de a: 4.320949934708571\n",
      "Longeur de b: 4.320949934708571\n",
      "Longeur de c: 4.320949934708571\n",
      "Angle alpha: 59.99999999999999\n",
      "Angle beta: 59.99999999999999\n",
      "Angle gamma: 60.00000000000001\n"
     ]
    }
   ],
   "source": [
    "# réseau direct\n",
    "resd = pstruct.lattice\n",
    "\n",
    "a= resd.a\n",
    "b= resd.b\n",
    "c= resd.c\n",
    "alpha= resd.alpha\n",
    "beta= resd.beta\n",
    "gamma= resd.gamma\n",
    "\n",
    "print(\"Vecteurs de base du réseau direct:\")\n",
    "print(\"Longeur de a: {}\".format(a))\n",
    "print(\"Longeur de b: {}\".format(b))\n",
    "print(\"Longeur de c: {}\".format(c))\n",
    "print(\"Angle alpha: {}\".format(alpha))\n",
    "print(\"Angle beta: {}\".format(beta))\n",
    "print(\"Angle gamma: {}\".format(gamma))"
   ]
  },
  {
   "attachments": {},
   "cell_type": "markdown",
   "id": "628e8c86",
   "metadata": {},
   "source": [
    "2) Réseau réciproque\n",
    "\n",
    "Dans le réseau réciproque, les vecteurs de base et les angles sont également identiques entre eux."
   ]
  },
  {
   "cell_type": "code",
   "execution_count": null,
   "id": "4fe217c2",
   "metadata": {},
   "outputs": [
    {
     "name": "stdout",
     "output_type": "stream",
     "text": [
      "Vecteurs de base du réseau réciproque:\n",
      "Longeur du vecteur a*: 1.7809275963041677\n",
      "Longeur du vecteur b*: 1.7809275963041677\n",
      "Longeur du vecteur c*: 1.7809275963041675\n",
      "Angle alpha*: 109.47122063449069\n",
      "Angle beta*: 109.4712206344907\n",
      "Angle gamma*: 109.47122063449069\n"
     ]
    }
   ],
   "source": [
    "# réseau réciproque\n",
    "resr = resd.reciprocal_lattice\n",
    "ar = resr.a\n",
    "br = resr.b\n",
    "cr = resr.c\n",
    "alphar = resr.alpha\n",
    "betar = resr.beta\n",
    "gammar = resr.gamma\n",
    "\n",
    "print(\"Vecteurs de base du réseau réciproque:\")\n",
    "print(\"Longeur du vecteur a*: {}\".format(ar))\n",
    "print(\"Longeur du vecteur b*: {}\".format(br))\n",
    "print(\"Longeur du vecteur c*: {}\".format(cr))\n",
    "print(\"Angle alpha*: {}\".format(alphar))\n",
    "print(\"Angle beta*: {}\".format(betar))\n",
    "print(\"Angle gamma*: {}\".format(gammar))"
   ]
  },
  {
   "cell_type": "markdown",
   "id": "0dfe3b3f",
   "metadata": {},
   "source": [
    "Dans la maille conventionnnelle, notre système cristallin est cubique et la maille cubique face centrée."
   ]
  },
  {
   "cell_type": "code",
   "execution_count": null,
   "id": "e720ab14",
   "metadata": {},
   "outputs": [
    {
     "name": "stdout",
     "output_type": "stream",
     "text": [
      "Type de maille : cubic\n",
      "Système cristallin : cubic\n",
      "Groupe ponctuel : -43m\n"
     ]
    }
   ],
   "source": [
    "# Type de maille, Système cristallin, Groupe ponctuel \n",
    "maille= struct.get_lattice_type()\n",
    "cristal= struct.get_crystal_system()\n",
    "GrouP= struct.get_point_group_symbol()\n",
    "\n",
    "print(\"Type de maille : \" + maille)\n",
    "print(\"Système cristallin : \" + cristal)\n",
    "print(\"Groupe ponctuel : \" + GrouP)"
   ]
  }
 ],
 "metadata": {
  "kernelspec": {
   "display_name": "Python 3",
   "language": "python",
   "name": "python3"
  },
  "language_info": {
   "codemirror_mode": {
    "name": "ipython",
    "version": 3
   },
   "file_extension": ".py",
   "mimetype": "text/x-python",
   "name": "python",
   "nbconvert_exporter": "python",
   "pygments_lexer": "ipython3",
   "version": "3.9.13"
  }
 },
 "nbformat": 4,
 "nbformat_minor": 5
}
