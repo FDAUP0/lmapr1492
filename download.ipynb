{
 "cells": [
  {
   "attachments": {},
   "cell_type": "markdown",
   "id": "933dafed",
   "metadata": {},
   "source": [
    "Objectif du notebook : télécharger le ﬁchier CIF du même matériau sur le MP sur base de l'API.\n",
    "\n",
    "Le fichier cif téléchargé est nommé ScNiSb_conventional.cif représente la maille conventionnelle"
   ]
  },
  {
   "cell_type": "code",
   "execution_count": null,
   "id": "6f4ac1fd",
   "metadata": {},
   "outputs": [],
   "source": [
    "from pymatgen.ext.matproj import MPRester\n",
    "\n",
    "# my user api key (materials project) : UcnD62FFUgnklkFnKltmwnzcZU1Aufi1\n",
    "# my user api key (materials project legacy) : RoIT1CX7DvB59O2S\n",
    "# my material : mp-3432 ScNiSb\n",
    "\n",
    "m =  MPRester(\"RoIT1CX7DvB59O2S\")\n",
    "# Structure for material id\n",
    "structure = m.get_structure_by_material_id(\"mp-3432\", conventional_unit_cell=True)\n",
    "with open(\"ScNiSb_conventional.cif\", \"w\") as f:\n",
    "    f.write(structure.to(fmt=\"cif\"))"
   ]
  }
 ],
 "metadata": {
  "kernelspec": {
   "display_name": "Python 3 (ipykernel)",
   "language": "python",
   "name": "python3"
  },
  "language_info": {
   "codemirror_mode": {
    "name": "ipython",
    "version": 3
   },
   "file_extension": ".py",
   "mimetype": "text/x-python",
   "name": "python",
   "nbconvert_exporter": "python",
   "pygments_lexer": "ipython3",
   "version": "3.9.12"
  }
 },
 "nbformat": 4,
 "nbformat_minor": 5
}
